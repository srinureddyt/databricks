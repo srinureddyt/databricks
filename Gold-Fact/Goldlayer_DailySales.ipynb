{
 "cells": [
  {
   "cell_type": "code",
   "execution_count": 0,
   "metadata": {
    "application/vnd.databricks.v1+cell": {
     "cellMetadata": {
      "byteLimit": 2048000,
      "rowLimit": 10000
     },
     "inputWidgets": {},
     "nuid": "8f776243-417d-4805-b871-3a4e0dfefbb6",
     "showTitle": false,
     "tableResultSettingsMap": {},
     "title": ""
    }
   },
   "outputs": [],
   "source": [
    "%run ../01-Config/02-config"
   ]
  },
  {
   "cell_type": "code",
   "execution_count": 0,
   "metadata": {
    "application/vnd.databricks.v1+cell": {
     "cellMetadata": {
      "byteLimit": 2048000,
      "rowLimit": 10000
     },
     "inputWidgets": {},
     "nuid": "8bf86940-c1a9-4c8f-9e24-51079a8e7cc3",
     "showTitle": false,
     "tableResultSettingsMap": {},
     "title": ""
    }
   },
   "outputs": [],
   "source": [
    "# Create the gold layer table(analytical table)\n",
    "query = \"\"\"\n",
    "CREATE OR REPLACE TABLE ECOMMERCE_DB.GOLD_DB.daily_sales AS\n",
    "SELECT \n",
    "    transaction_date,\n",
    "    SUM(total_amount) AS daily_total_sales\n",
    "FROM \n",
    "    ECOMMERCE_DB.SILVER_DB.transactions\n",
    "GROUP BY \n",
    "    transaction_date\n",
    "\"\"\"\n",
    "\n",
    "spark._jvm.net.snowflake.spark.snowflake.Utils.runQuery(snowflake_config, query)"
   ]
  },
  {
   "cell_type": "code",
   "execution_count": 0,
   "metadata": {
    "application/vnd.databricks.v1+cell": {
     "cellMetadata": {
      "byteLimit": 2048000,
      "implicitDf": true,
      "rowLimit": 10000
     },
     "inputWidgets": {},
     "nuid": "453cf9a7-e1ff-4aa8-b4f1-806a9a94f35c",
     "showTitle": false,
     "tableResultSettingsMap": {},
     "title": ""
    }
   },
   "outputs": [],
   "source": [
    "customer_query = \"SELECT * FROM ECOMMERCE_DB.GOLD_DB.daily_sales\"\n",
    "last_processed_df = spark.read.format(\"snowflake\") \\\n",
    "    .options(**snowflake_config) \\\n",
    "    .option(\"query\", customer_query) \\\n",
    "    .load()\n",
    "# Display the schema to check the column names\n",
    "display(last_processed_df)"
   ]
  }
 ],
 "metadata": {
  "application/vnd.databricks.v1+notebook": {
   "computePreferences": null,
   "dashboards": [],
   "environmentMetadata": null,
   "language": "python",
   "notebookMetadata": {
    "mostRecentlyExecutedCommandWithImplicitDF": {
     "commandId": 432430608335524,
     "dataframes": [
      "_sqldf"
     ]
    },
    "pythonIndentUnit": 4
   },
   "notebookName": "Goldlayer_DailySales",
   "widgets": {}
  },
  "language_info": {
   "name": "python"
  }
 },
 "nbformat": 4,
 "nbformat_minor": 0
}
