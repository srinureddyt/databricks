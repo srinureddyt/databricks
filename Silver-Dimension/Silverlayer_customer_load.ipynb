{
 "cells": [
  {
   "cell_type": "code",
   "execution_count": 0,
   "metadata": {
    "application/vnd.databricks.v1+cell": {
     "cellMetadata": {
      "byteLimit": 2048000,
      "rowLimit": 10000
     },
     "inputWidgets": {},
     "nuid": "16233f0c-0300-40d6-8fed-9dd823b59c74",
     "showTitle": false,
     "tableResultSettingsMap": {},
     "title": ""
    }
   },
   "outputs": [],
   "source": [
    "%run ../01-Config/02-config"
   ]
  },
  {
   "cell_type": "code",
   "execution_count": 0,
   "metadata": {
    "application/vnd.databricks.v1+cell": {
     "cellMetadata": {
      "byteLimit": 2048000,
      "rowLimit": 10000
     },
     "inputWidgets": {},
     "nuid": "5a86904f-b0d9-41a4-a605-0201e25a14b2",
     "showTitle": false,
     "tableResultSettingsMap": {},
     "title": ""
    }
   },
   "outputs": [],
   "source": [
    "# Create the silver layer table(dimension)\n",
    "query = \"\"\"CREATE TABLE IF NOT EXISTS ECOMMERCE_DB.SILVER_DB.customers (\n",
    "    customer_id STRING,\n",
    "    name STRING,\n",
    "    email STRING,\n",
    "    country STRING,\n",
    "    customer_type STRING,\n",
    "    registration_date DATE,\n",
    "    age INT,\n",
    "    gender STRING,\n",
    "    total_purchases INT,\n",
    "    customer_segment STRING,\n",
    "    days_since_registration INT,\n",
    "    last_updated TIMESTAMP)\"\"\"\n",
    "spark._jvm.net.snowflake.spark.snowflake.Utils.runQuery(snowflake_config, query)"
   ]
  },
  {
   "cell_type": "code",
   "execution_count": 0,
   "metadata": {
    "application/vnd.databricks.v1+cell": {
     "cellMetadata": {
      "byteLimit": 2048000,
      "rowLimit": 10000
     },
     "inputWidgets": {},
     "nuid": "246721c7-8971-478e-bdc2-edbef180fd3b",
     "showTitle": false,
     "tableResultSettingsMap": {},
     "title": ""
    }
   },
   "outputs": [],
   "source": [
    "# Get the last processed timestamp from silver layer\n",
    "customer_query = \"SELECT MAX(last_updated) as last_processed FROM ECOMMERCE_DB.SILVER_DB.CUSTOMERS\"\n",
    "last_processed_df = spark.read.format(\"snowflake\") \\\n",
    "    .options(**snowflake_config) \\\n",
    "    .option(\"query\", customer_query) \\\n",
    "    .load()\n",
    "# Display the schema to check the column names\n",
    "last_processed_df.printSchema()\n",
    "\n",
    "# Check if the DataFrame is empty\n",
    "if last_processed_df.count() == 0:\n",
    "    last_processed_timestamp = \"1900-01-01T00:00:00.000+00:00\"\n",
    "else:\n",
    "    last_processed_row = last_processed_df.collect()[0]\n",
    "    last_processed_timestamp = last_processed_row['LAST_PROCESSED'] if 'LAST_PROCESSED' in last_processed_row else None\n",
    "    if last_processed_timestamp is None:\n",
    "        last_processed_timestamp = \"1900-01-01T00:00:00.000+00:00\""
   ]
  },
  {
   "cell_type": "code",
   "execution_count": 0,
   "metadata": {
    "application/vnd.databricks.v1+cell": {
     "cellMetadata": {
      "byteLimit": 2048000,
      "rowLimit": 10000
     },
     "inputWidgets": {},
     "nuid": "32ab58d3-7bf1-4877-b6d9-0eb10104e6d5",
     "showTitle": false,
     "tableResultSettingsMap": {},
     "title": ""
    }
   },
   "outputs": [],
   "source": [
    "query = f\"\"\"\n",
    "SELECT *\n",
    "FROM ECOMMERCE_DB.BRONZE.customer c \n",
    "WHERE c.ingestion_timestamp > '{last_processed_timestamp}'\n",
    "\"\"\"\n",
    "customer_view = spark.read.format(\"snowflake\") \\\n",
    "    .options(**snowflake_config) \\\n",
    "    .option(\"query\", query) \\\n",
    "    .load() \n",
    "\n",
    "#customer_view.createOrReplaceTempView(\"bronze_incremental\")\n"
   ]
  },
  {
   "cell_type": "code",
   "execution_count": 0,
   "metadata": {
    "application/vnd.databricks.v1+cell": {
     "cellMetadata": {
      "byteLimit": 2048000,
      "rowLimit": 10000
     },
     "inputWidgets": {},
     "nuid": "cf91c4bf-cd25-4264-ad68-d6e5936f195b",
     "showTitle": false,
     "tableResultSettingsMap": {},
     "title": ""
    }
   },
   "outputs": [],
   "source": [
    "customer_view.createOrReplaceTempView(\"bronze_incremental\")\n",
    "spark.sql(\"select * from bronze_incremental\").show()"
   ]
  },
  {
   "cell_type": "code",
   "execution_count": 0,
   "metadata": {
    "application/vnd.databricks.v1+cell": {
     "cellMetadata": {},
     "inputWidgets": {},
     "nuid": "cdefe547-4c2b-4074-a947-e89120da7266",
     "showTitle": false,
     "tableResultSettingsMap": {},
     "title": ""
    }
   },
   "outputs": [],
   "source": [
    "#Validate email addresses (null or not null)\n",
    "#Valid age between 18 to 100\n",
    "#Create customer_segment as total_purchases > 10000 THEN 'High Value' if > 5000 THEN 'Medium Value'  ELSE 'Low Value'\n",
    "#days since user is registered in the system\n",
    "#Remove any junk records where total_purchase is negative number\n"
   ]
  },
  {
   "cell_type": "code",
   "execution_count": 0,
   "metadata": {
    "application/vnd.databricks.v1+cell": {
     "cellMetadata": {
      "byteLimit": 2048000,
      "rowLimit": 10000
     },
     "inputWidgets": {},
     "nuid": "603f6745-4088-4def-87d1-553178a1655f",
     "showTitle": false,
     "tableResultSettingsMap": {},
     "title": ""
    }
   },
   "outputs": [],
   "source": [
    "spark.sql(\"\"\"\n",
    "CREATE OR REPLACE TEMPORARY VIEW silver_incremental AS\n",
    "SELECT\n",
    "    customer_id,\n",
    "    name,\n",
    "    email,\n",
    "    country,\n",
    "    customer_type,\n",
    "    registration_date,\n",
    "    age,\n",
    "    gender,\n",
    "    total_purchases,\n",
    "    CASE\n",
    "        WHEN total_purchases > 10000 THEN 'High Value'\n",
    "        WHEN total_purchases > 5000 THEN 'Medium Value'\n",
    "        ELSE 'Low Value'\n",
    "    END AS customer_segment,\n",
    "    DATEDIFF(CURRENT_DATE(), registration_date) AS days_since_registration,\n",
    "    CURRENT_TIMESTAMP() AS last_updated\n",
    "FROM bronze_incremental\n",
    "WHERE \n",
    "    age BETWEEN 18 AND 100\n",
    "    AND email IS NOT NULL\n",
    "    AND total_purchases >= 0\n",
    "\"\"\")"
   ]
  },
  {
   "cell_type": "code",
   "execution_count": 0,
   "metadata": {
    "application/vnd.databricks.v1+cell": {
     "cellMetadata": {
      "byteLimit": 2048000,
      "rowLimit": 10000
     },
     "inputWidgets": {},
     "nuid": "84946728-b2a2-4d46-ba90-542d26419363",
     "showTitle": false,
     "tableResultSettingsMap": {},
     "title": ""
    }
   },
   "outputs": [],
   "source": [
    "#display(spark.sql(\"select * from silver_incremental\"))\n",
    "\n",
    "customer_query = \"SELECT * FROM ECOMMERCE_DB.SILVER_DB.CUSTOMERS\"\n",
    "target_df = spark.read.format(\"snowflake\") \\\n",
    "    .options(**snowflake_config) \\\n",
    "    .option(\"query\", customer_query) \\\n",
    "    .load()\n",
    "\n",
    "display(target_df)\n",
    "\n",
    "source_cust = spark.sql(\"select * from silver_incremental\")\n",
    "upd_cust = target_df.join(source_cust, \"customer_id\", \"inner\").select(source_cust[\"*\"])\n",
    "new_cust = target_df.join(source_cust, \"customer_id\", \"right\").select(source_cust[\"*\"])\n",
    "\n",
    "display(upd_cust)\n",
    "display(new_cust)\n",
    "\n",
    "\n",
    "\n",
    "\n",
    "\n",
    "\n"
   ]
  },
  {
   "cell_type": "code",
   "execution_count": 0,
   "metadata": {
    "application/vnd.databricks.v1+cell": {
     "cellMetadata": {
      "byteLimit": 2048000,
      "rowLimit": 10000
     },
     "inputWidgets": {},
     "nuid": "89bfa64e-4bd6-47b1-ba66-0da47db44fb6",
     "showTitle": false,
     "tableResultSettingsMap": {},
     "title": ""
    }
   },
   "outputs": [],
   "source": [
    "#wite data staging tables to silver schema in snowflake\n",
    "\n",
    "new_cust.write \\\n",
    "    .format(\"snowflake\") \\\n",
    "    .options(**snowflake_config) \\\n",
    "    .option(\"dbtable\", 'customers') \\\n",
    "    .option(\"sfDatabase\", 'ecommerce_db') \\\n",
    "    .option(\"sfSchema\", 'silver_db') \\\n",
    "    .mode(\"append\") \\\n",
    "    .save()\n",
    "\n",
    "upd_cust.write \\\n",
    "    .format(\"snowflake\") \\\n",
    "    .options(**snowflake_config) \\\n",
    "    .option(\"dbtable\", 'customers') \\\n",
    "    .option(\"sfDatabase\", 'ecommerce_db') \\\n",
    "    .option(\"sfSchema\", 'silver_db') \\\n",
    "    .mode(\"overwrite\") \\\n",
    "    .save()\n",
    "\n",
    "\n"
   ]
  }
 ],
 "metadata": {
  "application/vnd.databricks.v1+notebook": {
   "computePreferences": null,
   "dashboards": [],
   "environmentMetadata": null,
   "language": "python",
   "notebookMetadata": {
    "pythonIndentUnit": 4
   },
   "notebookName": "Silverlayer_customer_load",
   "widgets": {}
  },
  "language_info": {
   "name": "python"
  }
 },
 "nbformat": 4,
 "nbformat_minor": 0
}
